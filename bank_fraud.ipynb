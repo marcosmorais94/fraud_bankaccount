{
 "cells": [
  {
   "cell_type": "markdown",
   "id": "1c01ab3d",
   "metadata": {},
   "source": [
    "# MODELO PREDITO - FRAUDE BANCÁRIA"
   ]
  },
  {
   "cell_type": "markdown",
   "id": "e41a4837",
   "metadata": {},
   "source": [
    "O objetivo desta análise preditiva é determinar se determinada transação bancária tem potencial ou não de ser uma fraude. Dessa forma, o modelo auxilia em alertas sobre transações suspeitas e que podem impedir algum tipo de dano ao cliente e ao banco em si. O objetivo desse modelo é ter uma acurácia acima de 80%."
   ]
  },
  {
   "cell_type": "code",
   "execution_count": 1,
   "id": "bd4fe61b",
   "metadata": {},
   "outputs": [],
   "source": [
    "# carregando os pacotes e removendo os avisos\n",
    "import numpy as np\n",
    "import pandas as pd\n",
    "import seaborn as sns\n",
    "import scikitplot as skplt\n",
    "from sklearn.linear_model import LogisticRegression\n",
    "from sklearn.ensemble import RandomForestClassifier\n",
    "from sklearn.tree import DecisionTreeClassifier\n",
    "from sklearn.metrics import precision_score, recall_score, f1_score, accuracy_score, roc_auc_score, confusion_matrix\n",
    "from sklearn.model_selection import train_test_split\n",
    "import matplotlib.pyplot as plt\n",
    "from matplotlib import pylab\n",
    "from scipy import stats\n",
    "import warnings\n",
    "warnings.filterwarnings('ignore')\n",
    "\n",
    "%matplotlib inline"
   ]
  },
  {
   "cell_type": "code",
   "execution_count": 2,
   "id": "39d74c40",
   "metadata": {},
   "outputs": [],
   "source": [
    "# Carregando o dataset\n",
    "base = pd.read_csv('C:/python_scripts/fraud/base.csv')"
   ]
  },
  {
   "cell_type": "code",
   "execution_count": 3,
   "id": "8070436d",
   "metadata": {},
   "outputs": [
    {
     "name": "stdout",
     "output_type": "stream",
     "text": [
      "(1000000, 32)\n"
     ]
    }
   ],
   "source": [
    "# Conferindo a quantidade de linhas e confirmando que a junção dos dataset está correta\n",
    "print(base.shape)"
   ]
  },
  {
   "cell_type": "markdown",
   "id": "a31542ae",
   "metadata": {},
   "source": [
    "## 1. Análise Exploratória"
   ]
  },
  {
   "cell_type": "markdown",
   "id": "3b76919e",
   "metadata": {},
   "source": [
    "Dataset possui 1 milhão de registros com 32 atributos. Como é um problema de classificação, é esperado que exista um desbalanceamento de classes e também possíveis atributos que estejam correlacionados. A fase de análise exploratória será excelente para identificar esses pontos e d"
   ]
  }
 ],
 "metadata": {
  "kernelspec": {
   "display_name": "Python 3 (ipykernel)",
   "language": "python",
   "name": "python3"
  },
  "language_info": {
   "codemirror_mode": {
    "name": "ipython",
    "version": 3
   },
   "file_extension": ".py",
   "mimetype": "text/x-python",
   "name": "python",
   "nbconvert_exporter": "python",
   "pygments_lexer": "ipython3",
   "version": "3.11.1"
  }
 },
 "nbformat": 4,
 "nbformat_minor": 5
}
