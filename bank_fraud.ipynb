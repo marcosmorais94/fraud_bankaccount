{
 "cells": [
  {
   "cell_type": "markdown",
   "id": "1c01ab3d",
   "metadata": {},
   "source": [
    "# MODELO PREDITO - FRAUDE BANCÁRIA"
   ]
  },
  {
   "cell_type": "markdown",
   "id": "8b79eaf3",
   "metadata": {},
   "source": [
    "O objetivo desta análise preditiva é determinar se determinada transação bancária tem potencial ou não de ser uma fraude. Dessa forma, o modelo auxilia em alertas sobre transações suspeitas e que podem impedir algum tipo de dano ao cliente e ao banco em si. O objetivo desse modelo é ter uma acurácia acima de 80%."
   ]
  },
  {
   "cell_type": "code",
   "execution_count": 1,
   "id": "bd4fe61b",
   "metadata": {},
   "outputs": [],
   "source": [
    "# carregando os pacotes e removendo os avisos\n",
    "import numpy as np\n",
    "import pandas as pd\n",
    "import seaborn as sns\n",
    "import scikitplot as skplt\n",
    "from sklearn.linear_model import LogisticRegression\n",
    "from sklearn.ensemble import RandomForestClassifier\n",
    "from sklearn.tree import DecisionTreeClassifier\n",
    "from sklearn.metrics import precision_score, recall_score, f1_score, accuracy_score, roc_auc_score, confusion_matrix\n",
    "from sklearn.model_selection import train_test_split\n",
    "import matplotlib.pyplot as plt\n",
    "from matplotlib import pylab\n",
    "from scipy import stats\n",
    "import warnings\n",
    "warnings.filterwarnings('ignore')\n",
    "\n",
    "%matplotlib inline"
   ]
  },
  {
   "cell_type": "code",
   "execution_count": 2,
   "id": "dea115e0",
   "metadata": {},
   "outputs": [],
   "source": [
    "# Carregando o dataset\n",
    "base = pd.read_csv('C:/python_scripts/fraud/base.csv')"
   ]
  },
  {
   "cell_type": "code",
   "execution_count": 3,
   "id": "da4a76f2",
   "metadata": {},
   "outputs": [
    {
     "name": "stdout",
     "output_type": "stream",
     "text": [
      "(1000000, 32)\n"
     ]
    }
   ],
   "source": [
    "# Conferindo a quantidade de linhas e confirmando que a junção dos dataset está correta\n",
    "print(base.shape)"
   ]
  },
  {
   "cell_type": "markdown",
   "id": "504b943c",
   "metadata": {},
   "source": [
    "## 1. Análise Exploratória"
   ]
  },
  {
   "cell_type": "markdown",
   "id": "9340ee4c",
   "metadata": {},
   "source": [
    "Dataset possui 1 milhão de registros com 32 atributos. Como é um problema de classificação, é esperado que exista um desbalanceamento de classes e também possíveis atributos que estejam correlacionados. A fase de análise exploratória será excelente para identificar esses pontos e determinar quais serão os passos no pré-processamento."
   ]
  },
  {
   "cell_type": "code",
   "execution_count": 4,
   "id": "6b6722cb",
   "metadata": {},
   "outputs": [
    {
     "data": {
      "text/html": [
       "<div>\n",
       "<style scoped>\n",
       "    .dataframe tbody tr th:only-of-type {\n",
       "        vertical-align: middle;\n",
       "    }\n",
       "\n",
       "    .dataframe tbody tr th {\n",
       "        vertical-align: top;\n",
       "    }\n",
       "\n",
       "    .dataframe thead th {\n",
       "        text-align: right;\n",
       "    }\n",
       "</style>\n",
       "<table border=\"1\" class=\"dataframe\">\n",
       "  <thead>\n",
       "    <tr style=\"text-align: right;\">\n",
       "      <th></th>\n",
       "      <th>fraud_bool</th>\n",
       "      <th>income</th>\n",
       "      <th>name_email_similarity</th>\n",
       "      <th>prev_address_months_count</th>\n",
       "      <th>current_address_months_count</th>\n",
       "      <th>customer_age</th>\n",
       "      <th>days_since_request</th>\n",
       "      <th>intended_balcon_amount</th>\n",
       "      <th>payment_type</th>\n",
       "      <th>zip_count_4w</th>\n",
       "      <th>...</th>\n",
       "      <th>has_other_cards</th>\n",
       "      <th>proposed_credit_limit</th>\n",
       "      <th>foreign_request</th>\n",
       "      <th>source</th>\n",
       "      <th>session_length_in_minutes</th>\n",
       "      <th>device_os</th>\n",
       "      <th>keep_alive_session</th>\n",
       "      <th>device_distinct_emails_8w</th>\n",
       "      <th>device_fraud_count</th>\n",
       "      <th>month</th>\n",
       "    </tr>\n",
       "  </thead>\n",
       "  <tbody>\n",
       "    <tr>\n",
       "      <th>0</th>\n",
       "      <td>1</td>\n",
       "      <td>0.9</td>\n",
       "      <td>0.166828</td>\n",
       "      <td>-1</td>\n",
       "      <td>88</td>\n",
       "      <td>50</td>\n",
       "      <td>0.020925</td>\n",
       "      <td>-1.331345</td>\n",
       "      <td>AA</td>\n",
       "      <td>769</td>\n",
       "      <td>...</td>\n",
       "      <td>0</td>\n",
       "      <td>500.0</td>\n",
       "      <td>0</td>\n",
       "      <td>INTERNET</td>\n",
       "      <td>3.888115</td>\n",
       "      <td>windows</td>\n",
       "      <td>0</td>\n",
       "      <td>1</td>\n",
       "      <td>0</td>\n",
       "      <td>7</td>\n",
       "    </tr>\n",
       "    <tr>\n",
       "      <th>1</th>\n",
       "      <td>1</td>\n",
       "      <td>0.9</td>\n",
       "      <td>0.296286</td>\n",
       "      <td>-1</td>\n",
       "      <td>144</td>\n",
       "      <td>50</td>\n",
       "      <td>0.005418</td>\n",
       "      <td>-0.816224</td>\n",
       "      <td>AB</td>\n",
       "      <td>366</td>\n",
       "      <td>...</td>\n",
       "      <td>0</td>\n",
       "      <td>1500.0</td>\n",
       "      <td>0</td>\n",
       "      <td>INTERNET</td>\n",
       "      <td>31.798819</td>\n",
       "      <td>windows</td>\n",
       "      <td>0</td>\n",
       "      <td>1</td>\n",
       "      <td>0</td>\n",
       "      <td>7</td>\n",
       "    </tr>\n",
       "    <tr>\n",
       "      <th>2</th>\n",
       "      <td>1</td>\n",
       "      <td>0.9</td>\n",
       "      <td>0.044985</td>\n",
       "      <td>-1</td>\n",
       "      <td>132</td>\n",
       "      <td>40</td>\n",
       "      <td>3.108549</td>\n",
       "      <td>-0.755728</td>\n",
       "      <td>AC</td>\n",
       "      <td>870</td>\n",
       "      <td>...</td>\n",
       "      <td>0</td>\n",
       "      <td>200.0</td>\n",
       "      <td>0</td>\n",
       "      <td>INTERNET</td>\n",
       "      <td>4.728705</td>\n",
       "      <td>other</td>\n",
       "      <td>0</td>\n",
       "      <td>1</td>\n",
       "      <td>0</td>\n",
       "      <td>7</td>\n",
       "    </tr>\n",
       "    <tr>\n",
       "      <th>3</th>\n",
       "      <td>1</td>\n",
       "      <td>0.9</td>\n",
       "      <td>0.159511</td>\n",
       "      <td>-1</td>\n",
       "      <td>22</td>\n",
       "      <td>50</td>\n",
       "      <td>0.019079</td>\n",
       "      <td>-1.205124</td>\n",
       "      <td>AB</td>\n",
       "      <td>810</td>\n",
       "      <td>...</td>\n",
       "      <td>1</td>\n",
       "      <td>200.0</td>\n",
       "      <td>0</td>\n",
       "      <td>INTERNET</td>\n",
       "      <td>2.047904</td>\n",
       "      <td>linux</td>\n",
       "      <td>0</td>\n",
       "      <td>1</td>\n",
       "      <td>0</td>\n",
       "      <td>7</td>\n",
       "    </tr>\n",
       "    <tr>\n",
       "      <th>4</th>\n",
       "      <td>1</td>\n",
       "      <td>0.9</td>\n",
       "      <td>0.596414</td>\n",
       "      <td>-1</td>\n",
       "      <td>218</td>\n",
       "      <td>50</td>\n",
       "      <td>0.004441</td>\n",
       "      <td>-0.773276</td>\n",
       "      <td>AB</td>\n",
       "      <td>890</td>\n",
       "      <td>...</td>\n",
       "      <td>0</td>\n",
       "      <td>1500.0</td>\n",
       "      <td>0</td>\n",
       "      <td>INTERNET</td>\n",
       "      <td>3.775225</td>\n",
       "      <td>macintosh</td>\n",
       "      <td>1</td>\n",
       "      <td>1</td>\n",
       "      <td>0</td>\n",
       "      <td>7</td>\n",
       "    </tr>\n",
       "  </tbody>\n",
       "</table>\n",
       "<p>5 rows × 32 columns</p>\n",
       "</div>"
      ],
      "text/plain": [
       "   fraud_bool  income  name_email_similarity  prev_address_months_count  \\\n",
       "0           1     0.9               0.166828                         -1   \n",
       "1           1     0.9               0.296286                         -1   \n",
       "2           1     0.9               0.044985                         -1   \n",
       "3           1     0.9               0.159511                         -1   \n",
       "4           1     0.9               0.596414                         -1   \n",
       "\n",
       "   current_address_months_count  customer_age  days_since_request  \\\n",
       "0                            88            50            0.020925   \n",
       "1                           144            50            0.005418   \n",
       "2                           132            40            3.108549   \n",
       "3                            22            50            0.019079   \n",
       "4                           218            50            0.004441   \n",
       "\n",
       "   intended_balcon_amount payment_type  zip_count_4w  ...  has_other_cards  \\\n",
       "0               -1.331345           AA           769  ...                0   \n",
       "1               -0.816224           AB           366  ...                0   \n",
       "2               -0.755728           AC           870  ...                0   \n",
       "3               -1.205124           AB           810  ...                1   \n",
       "4               -0.773276           AB           890  ...                0   \n",
       "\n",
       "   proposed_credit_limit  foreign_request    source  \\\n",
       "0                  500.0                0  INTERNET   \n",
       "1                 1500.0                0  INTERNET   \n",
       "2                  200.0                0  INTERNET   \n",
       "3                  200.0                0  INTERNET   \n",
       "4                 1500.0                0  INTERNET   \n",
       "\n",
       "   session_length_in_minutes  device_os  keep_alive_session  \\\n",
       "0                   3.888115    windows                   0   \n",
       "1                  31.798819    windows                   0   \n",
       "2                   4.728705      other                   0   \n",
       "3                   2.047904      linux                   0   \n",
       "4                   3.775225  macintosh                   1   \n",
       "\n",
       "   device_distinct_emails_8w device_fraud_count  month  \n",
       "0                          1                  0      7  \n",
       "1                          1                  0      7  \n",
       "2                          1                  0      7  \n",
       "3                          1                  0      7  \n",
       "4                          1                  0      7  \n",
       "\n",
       "[5 rows x 32 columns]"
      ]
     },
     "execution_count": 4,
     "metadata": {},
     "output_type": "execute_result"
    }
   ],
   "source": [
    "# Visualizando os dados\n",
    "base.head()"
   ]
  },
  {
   "cell_type": "code",
   "execution_count": 9,
   "id": "960e635e",
   "metadata": {},
   "outputs": [
    {
     "data": {
      "text/plain": [
       "fraud_bool                            int64\n",
       "income                              float64\n",
       "name_email_similarity               float64\n",
       "prev_address_months_count             int64\n",
       "current_address_months_count          int64\n",
       "customer_age                          int64\n",
       "days_since_request                  float64\n",
       "intended_balcon_amount              float64\n",
       "payment_type                         object\n",
       "zip_count_4w                          int64\n",
       "velocity_6h                         float64\n",
       "velocity_24h                        float64\n",
       "velocity_4w                         float64\n",
       "bank_branch_count_8w                  int64\n",
       "date_of_birth_distinct_emails_4w      int64\n",
       "employment_status                    object\n",
       "credit_risk_score                     int64\n",
       "email_is_free                         int64\n",
       "housing_status                       object\n",
       "phone_home_valid                      int64\n",
       "phone_mobile_valid                    int64\n",
       "bank_months_count                     int64\n",
       "has_other_cards                       int64\n",
       "proposed_credit_limit               float64\n",
       "foreign_request                       int64\n",
       "source                               object\n",
       "session_length_in_minutes           float64\n",
       "device_os                            object\n",
       "keep_alive_session                    int64\n",
       "device_distinct_emails_8w             int64\n",
       "device_fraud_count                    int64\n",
       "month                                 int64\n",
       "dtype: object"
      ]
     },
     "execution_count": 9,
     "metadata": {},
     "output_type": "execute_result"
    }
   ],
   "source": [
    "# Tipos de variáveis\n",
    "base.dtypes"
   ]
  },
  {
   "cell_type": "code",
   "execution_count": 23,
   "id": "6edd366c",
   "metadata": {},
   "outputs": [
    {
     "data": {
      "image/png": "[encoded data removed]",
      "text/plain": [
       "<Figure size 1000x1000 with 2 Axes>"
      ]
     },
     "metadata": {},
     "output_type": "display_data"
    }
   ],
   "source": [
    "# Gráfico de correlação\n",
    "fig, ax = plt.subplots(figsize=(10, 10))\n",
    "\n",
    "dataplot = sns.heatmap(base[['fraud_bool','income','name_email_similarity']].corr(), cmap=\"YlGnBu\", annot=True)"
   ]
  },
  {
   "cell_type": "markdown",
   "id": "3f44befe",
   "metadata": {},
   "source": [
    "Analisando a correlação das 32 variáveis"
   ]
  },
  {
   "cell_type": "code",
   "execution_count": 12,
   "id": "d9b4175c",
   "metadata": {},
   "outputs": [
    {
     "name": "stdout",
     "output_type": "stream",
     "text": [
      "O total de registros é: 1000000\n",
      "A classe 1 possui 11029 que representa 1.1 %\n",
      "A classe 0 possui: 988971 que representa 98.9 %\n"
     ]
    },
    {
     "data": {
      "image/png": "[encoded data removed]",
      "text/plain": [
       "<Figure size 640x480 with 1 Axes>"
      ]
     },
     "metadata": {},
     "output_type": "display_data"
    }
   ],
   "source": [
    "# Gráfico para contagem de classes na variável Frad Bool (Variável target)\n",
    "graf_class = sns.countplot(x = 'fraud_bool', data = base, palette = 'PuBu')\n",
    "graf_class.set_xlabel('Classe - 1 Positivo e 0 Negativo')\n",
    "graf_class.set_ylabel('Contagem de Registros')\n",
    "graf_class.set_title('Distribuição de Classes')\n",
    "\n",
    "graf_class.bar_label(graf_class.containers[0])\n",
    "\n",
    "class_table = base['fraud_bool'].value_counts()\n",
    "\n",
    "print('O total de registros é:', class_table.sum())\n",
    "print('A classe 1 possui', class_table[1].sum(), 'que representa', round((class_table[1]/class_table.sum())*100,1),\"%\")\n",
    "print('A classe 0 possui:', class_table[0].sum(), 'que representa', round((class_table[0]/class_table.sum())*100,1),\"%\")"
   ]
  },
  {
   "cell_type": "markdown",
   "id": "4b3d32bc",
   "metadata": {},
   "source": [
    "Aqui vemos que o dataset está desbalanceado, o que era esperado visto que temos muito mais transações legais do que fraudulentas no mercado. Diante disso, será necessário fazer um balanceamento de classes porque apenas 1% das transações tiveram fraude. Usar o dataset dessa forma prejudica o treinamento do modelo de machine learning."
   ]
  },
  {
   "cell_type": "code",
   "execution_count": null,
   "id": "aaec9fe2",
   "metadata": {},
   "outputs": [],
   "source": []
  }
 ],
 "metadata": {
  "kernelspec": {
   "display_name": "Python 3 (ipykernel)",
   "language": "python",
   "name": "python3"
  },
  "language_info": {
   "codemirror_mode": {
    "name": "ipython",
    "version": 3
   },
   "file_extension": ".py",
   "mimetype": "text/x-python",
   "name": "python",
   "nbconvert_exporter": "python",
   "pygments_lexer": "ipython3",
   "version": "3.11.1"
  }
 },
 "nbformat": 4,
 "nbformat_minor": 5
}
